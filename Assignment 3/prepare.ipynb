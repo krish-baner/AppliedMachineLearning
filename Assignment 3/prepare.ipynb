{
 "cells": [
  {
   "cell_type": "code",
   "execution_count": 1,
   "id": "b9004309-4df4-4afc-a039-afb8265cde0e",
   "metadata": {},
   "outputs": [],
   "source": [
    "import pandas as pd\n",
    "import numpy as np\n",
    "from nltk.corpus import stopwords\n",
    "from sklearn.model_selection import train_test_split\n",
    "import random\n",
    "random.seed(42)\n",
    "import seaborn as sns\n",
    "import matplotlib.pyplot as plt\n",
    "import re\n",
    "\n",
    "%matplotlib inline\n",
    "import matplotlib.pyplot as plt\n",
    "\n",
    "import warnings\n",
    "warnings.filterwarnings(\"ignore\")"
   ]
  },
  {
   "cell_type": "code",
   "execution_count": 3,
   "id": "39cfe794-e106-460a-9dd4-829066bc278a",
   "metadata": {},
   "outputs": [],
   "source": [
    "def load_data(file_path):\n",
    "    \"\"\"Loads SMS spam data from a given file path.\"\"\"\n",
    "    try:\n",
    "        df = pd.read_csv(file_path, sep='\\t', header=None, names=['label', 'message'], quoting=3, encoding='utf-8', engine='python')\n",
    "    except Exception as e:\n",
    "        print(f\"Error loading data: {e}\")\n",
    "        return None\n",
    "    return df"
   ]
  },
  {
   "cell_type": "code",
   "execution_count": 5,
   "id": "90f37ef7-d83c-4544-9530-f34428a11d67",
   "metadata": {},
   "outputs": [],
   "source": [
    "def preprocess_data(df):\n",
    "    \"\"\"Preprocess the dataset if needed.\"\"\"\n",
    "    # Convert labels to binary (ham -> 0, spam -> 1)\n",
    "    df['label'] = df['label'].map({'ham': 0, 'spam': 1})\n",
    "    return df"
   ]
  },
  {
   "cell_type": "code",
   "execution_count": 7,
   "id": "43b7f3d4-a197-43f2-8ead-b4e30b7b4be9",
   "metadata": {},
   "outputs": [],
   "source": [
    "def split_and_store_data(df, train_path='train.csv', val_path='validation.csv', test_path='test.csv'):\n",
    "    \"\"\"Splits data into train, validation, and test sets, then saves them to CSV files.\"\"\"\n",
    "    train, temp = train_test_split(df, test_size=0.3, random_state=42, stratify=df['label'])\n",
    "    val, test = train_test_split(temp, test_size=0.5, random_state=42, stratify=temp['label'])\n",
    "    \n",
    "    train.to_csv(train_path, index=False)\n",
    "    val.to_csv(val_path, index=False)\n",
    "    test.to_csv(test_path, index=False)\n",
    "    \n",
    "    print(f\"Data split and saved: {train_path}, {val_path}, {test_path}\")"
   ]
  },
  {
   "cell_type": "code",
   "execution_count": 13,
   "id": "16e5150d-ace7-44d4-bac1-21d703b103d9",
   "metadata": {},
   "outputs": [],
   "source": [
    "file_path = 'downloads/SMSSpamCollection'"
   ]
  },
  {
   "cell_type": "code",
   "execution_count": 15,
   "id": "018e2618-75c8-4e19-aba5-327e05a692c6",
   "metadata": {},
   "outputs": [
    {
     "name": "stdout",
     "output_type": "stream",
     "text": [
      "Error loading data: [Errno 2] No such file or directory: 'downloads/SMSSpamCollection'\n"
     ]
    }
   ],
   "source": [
    "df = load_data(file_path)"
   ]
  },
  {
   "cell_type": "code",
   "execution_count": null,
   "id": "e9f34491-b89b-43cf-bf75-474d15012205",
   "metadata": {},
   "outputs": [],
   "source": [
    "df = preprocess_data(df)"
   ]
  },
  {
   "cell_type": "code",
   "execution_count": null,
   "id": "52236a1d-2626-42a2-b2b4-d4e0b4f424fe",
   "metadata": {},
   "outputs": [],
   "source": [
    "split_and_store_data(df)"
   ]
  },
  {
   "cell_type": "code",
   "execution_count": null,
   "id": "120a0530-de8a-4434-abff-21d305a19991",
   "metadata": {},
   "outputs": [],
   "source": [
    "df_train = pd.read_csv(\"train.csv\")\n",
    "df_test = pd.read_csv(\"test.csv\")"
   ]
  },
  {
   "cell_type": "code",
   "execution_count": null,
   "id": "a7676296-d346-4a96-beb8-9740717b4b66",
   "metadata": {},
   "outputs": [],
   "source": [
    "print(f\"The training and set set size respectively are: {df_train.size}, {df_test.size}\")"
   ]
  },
  {
   "cell_type": "code",
   "execution_count": null,
   "id": "fce72936-ad14-4053-a55b-89c32bd3277d",
   "metadata": {},
   "outputs": [],
   "source": []
  }
 ],
 "metadata": {
  "kernelspec": {
   "display_name": "Python 3 (ipykernel)",
   "language": "python",
   "name": "python3"
  },
  "language_info": {
   "codemirror_mode": {
    "name": "ipython",
    "version": 3
   },
   "file_extension": ".py",
   "mimetype": "text/x-python",
   "name": "python",
   "nbconvert_exporter": "python",
   "pygments_lexer": "ipython3",
   "version": "3.12.4"
  }
 },
 "nbformat": 4,
 "nbformat_minor": 5
}
