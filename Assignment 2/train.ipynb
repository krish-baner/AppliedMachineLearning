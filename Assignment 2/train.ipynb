{
 "cells": [
  {
   "cell_type": "code",
   "execution_count": 1,
   "metadata": {},
   "outputs": [],
   "source": [
    "import mlflow\n",
    "from train import load_data, preprocess_data, run_experiment\n",
    "from sklearn.naive_bayes import MultinomialNB\n",
    "from sklearn.svm import LinearSVC\n",
    "from sklearn.linear_model import LogisticRegression"
   ]
  },
  {
   "cell_type": "code",
   "execution_count": 2,
   "metadata": {},
   "outputs": [
    {
     "name": "stderr",
     "output_type": "stream",
     "text": [
      "2025/03/04 16:07:17 INFO mlflow.tracking.fluent: Experiment with name 'SMS Spam Classification' does not exist. Creating a new experiment.\n"
     ]
    }
   ],
   "source": [
    "mlflow.set_experiment(\"SMS Spam Classification\")\n",
    "    \n",
    "# Load data\n",
    "X_train, y_train = load_data('processed_data/train.csv')\n",
    "X_val, y_val = load_data('processed_data/validation.csv')\n",
    "X_test, y_test = load_data('processed_data/test.csv')\n",
    "\n",
    "# Preprocess data\n",
    "data = preprocess_data(X_train, X_val, X_test)\n",
    "X_train_tfidf = data['X_train_tfidf']\n",
    "X_val_tfidf = data['X_val_tfidf']\n",
    "X_test_tfidf = data['X_test_tfidf']\n",
    "\n",
    "# Define models\n",
    "models = {\n",
    "    'Naive Bayes': MultinomialNB(),\n",
    "    'SVM': LinearSVC(random_state=42),\n",
    "    'Logistic Regression': LogisticRegression(random_state=42)\n",
    "}"
   ]
  },
  {
   "cell_type": "code",
   "execution_count": 3,
   "metadata": {},
   "outputs": [
    {
     "name": "stdout",
     "output_type": "stream",
     "text": [
      "Training Naive Bayes...\n"
     ]
    },
    {
     "name": "stderr",
     "output_type": "stream",
     "text": [
      "2025/03/04 16:07:46 WARNING mlflow.utils.environment: Failed to resolve installed pip version. ``pip`` will be added to conda.yaml environment spec without a version specifier.\n"
     ]
    },
    {
     "name": "stdout",
     "output_type": "stream",
     "text": [
      "Training SVM...\n"
     ]
    },
    {
     "name": "stderr",
     "output_type": "stream",
     "text": [
      "2025/03/04 16:08:03 WARNING mlflow.utils.environment: Failed to resolve installed pip version. ``pip`` will be added to conda.yaml environment spec without a version specifier.\n"
     ]
    },
    {
     "name": "stdout",
     "output_type": "stream",
     "text": [
      "Training Logistic Regression...\n"
     ]
    },
    {
     "name": "stderr",
     "output_type": "stream",
     "text": [
      "2025/03/04 16:08:18 WARNING mlflow.utils.environment: Failed to resolve installed pip version. ``pip`` will be added to conda.yaml environment spec without a version specifier.\n"
     ]
    }
   ],
   "source": [
    "# Run experiments for each model\n",
    "results = {}\n",
    "for model_name, model in models.items():\n",
    "    print(f\"Training {model_name}...\")\n",
    "    _, test_metrics = run_experiment(\n",
    "        model_name, model, \n",
    "        X_train_tfidf, y_train, \n",
    "        X_val_tfidf, y_val, \n",
    "        X_test_tfidf, y_test\n",
    "    )\n",
    "    results[model_name] = test_metrics"
   ]
  },
  {
   "cell_type": "code",
   "execution_count": 4,
   "metadata": {},
   "outputs": [
    {
     "name": "stdout",
     "output_type": "stream",
     "text": [
      "\n",
      "Model Performance Metrics on Test Data:\n",
      "\n",
      "Classifier\t\t\tAccuracy\tF1 Score\tRecall\t\tPrecision\tSpecificity\tROC AUC\t\tPR AUC\n",
      "------------------------------------------------------------------------------------------------------------------------\n",
      "Naive Bayes         \t\t0.9570\t\t0.8273\t\t0.7055\t\t1.0000\t\t1.0000\t\t0.8528\t\t0.9428\n",
      "SVM                 \t\t0.9803\t\t0.9290\t\t0.8834\t\t0.9796\t\t0.9968\t\t0.9401\t\t0.9676\n",
      "Logistic Regression \t\t0.9570\t\t0.8286\t\t0.7117\t\t0.9915\t\t0.9989\t\t0.8553\t\t0.9531\n",
      "\n",
      "Best model based on PR AUC: SVM with PR AUC = 0.9676\n"
     ]
    }
   ],
   "source": [
    "# Print results\n",
    "print(\"\\nModel Performance Metrics on Test Data:\")\n",
    "print(\"\\nClassifier\\t\\t\\tAccuracy\\tF1 Score\\tRecall\\t\\tPrecision\\tSpecificity\\tROC AUC\\t\\tPR AUC\")\n",
    "print(\"-\" * 120)\n",
    "\n",
    "for model_name, metrics in results.items():\n",
    "    print(f\"{model_name:<20}\\t\\t{metrics['accuracy']:.4f}\\t\\t{metrics['f1_score']:.4f}\\t\\t\"\n",
    "            f\"{metrics['recall']:.4f}\\t\\t{metrics['precision']:.4f}\\t\\t{metrics['specificity']:.4f}\\t\\t\"\n",
    "            f\"{metrics['roc_auc']:.4f}\\t\\t{metrics['pr_auc']:.4f}\")\n",
    "\n",
    "# Select the best model based on PR AUC\n",
    "best_model = max(results.items(), key=lambda x: x[1]['pr_auc'])\n",
    "print(f\"\\nBest model based on PR AUC: {best_model[0]} with PR AUC = {best_model[1]['pr_auc']:.4f}\")"
   ]
  },
  {
   "cell_type": "code",
   "execution_count": 12,
   "metadata": {},
   "outputs": [
    {
     "name": "stdout",
     "output_type": "stream",
     "text": [
      "Logistic Regression 0.9530785765562111\n",
      "SVM 0.9675831829013415\n",
      "Naive Bayes 0.9427791772476878\n"
     ]
    }
   ],
   "source": [
    "client = mlflow.tracking.MlflowClient()\n",
    "experiment_id = \"431075443274287447\"\n",
    "runs = client.search_runs(\n",
    "    experiment_id, order_by=[\"metrics.pr_auc ASC\"]\n",
    ")\n",
    "for run in runs:\n",
    "    print(run.info.run_name, run.data.metrics['test_pr_auc'])\n"
   ]
  },
  {
   "cell_type": "code",
   "execution_count": null,
   "metadata": {},
   "outputs": [],
   "source": []
  }
 ],
 "metadata": {
  "kernelspec": {
   "display_name": ".venv",
   "language": "python",
   "name": "python3"
  },
  "language_info": {
   "codemirror_mode": {
    "name": "ipython",
    "version": 3
   },
   "file_extension": ".py",
   "mimetype": "text/x-python",
   "name": "python",
   "nbconvert_exporter": "python",
   "pygments_lexer": "ipython3",
   "version": "3.13.1"
  }
 },
 "nbformat": 4,
 "nbformat_minor": 2
}
